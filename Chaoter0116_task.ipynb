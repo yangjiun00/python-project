{
 "cells": [
  {
   "cell_type": "markdown",
   "metadata": {
    "id": "BX7SgOeWu86I"
   },
   "source": [
    "안녕하세요. 수강생 여러분~! \n",
    "\n",
    "다시 돌아온 조금 더 성장할 기 ! 회 ! \n",
    "\n",
    "Chapter01 ~ 16의 수업 내용을 바탕으로 아래 문제를 풀어주시면 됩니다 !\n",
    "\n",
    "지금까지 잘 해오셨으니까, 총 복습한다고 생각하시고 한번 도전해보세요 !!!\n",
    "\n",
    "차근 차근 문제와 요구사항을 읽고 작성해보세요.\n",
    "\n",
    "<br>\n",
    "\n",
    "\n",
    "[**답변 입력 방법**]\n",
    "\n",
    "문제 아래에 있는 코드 입력창에 정답코드를 작성하신 후  __▷ 버튼을 클릭해 코드를 실행__ 해보세요<br>"
   ]
  },
  {
   "cell_type": "markdown",
   "metadata": {},
   "source": [
    "---"
   ]
  },
  {
   "cell_type": "markdown",
   "metadata": {},
   "source": [
    "#### 프로젝트: 붕어빵 자동 판매 시스템\n",
    "\n",
    "\n",
    "당신은 붕어빵 가게의 주인입니다. \n",
    "\n",
    "손님들이 붕어빵을 주문하면 이를 자동으로 처리하고, 재고를 관리하는 시스템을 만들고자 합니다. \n",
    "\n",
    "또한, 관리자 모드를 통해 재고를 추가할 수 있는 기능을 구현해야 합니다.\n"
   ]
  },
  {
   "cell_type": "markdown",
   "metadata": {},
   "source": [
    "__[문제 1: 붕어빵 재고 확인]__\n",
    "\n",
    "붕어빵 가게의 현재 재고를 확인하는 기능을 구현하세요.\n",
    "\n",
    "요구사항:\n",
    "- 현재 붕어빵의 재고를 딕셔너리로 관리합니다.\n",
    "- 딕셔너리에는 붕어빵의 종류와 각각의 재고 개수가 저장됩니다.\n",
    "- 현재 재고를 화면에 출력하세요.\n",
    "\n",
    "붕어빵 재고\n",
    "- 팥붕어빵 : 10개\n",
    "- 슈크림붕어빵 : 8개\n",
    "- 초코붕어빵 : 5개"
   ]
  },
  {
   "cell_type": "code",
   "execution_count": 1,
   "metadata": {},
   "outputs": [
    {
     "name": "stdout",
     "output_type": "stream",
     "text": [
      "{'슈크림붕어빵 : 8개', '팥붕어빵 : 10개', '초코붕어빵 : 5개'}\n"
     ]
    }
   ],
   "source": [
    "재고 = {\"팥붕어빵 : 10개\", \"슈크림붕어빵 : 8개\", \"초코붕어빵 : 5개\"}\n",
    "print(재고)"
   ]
  },
  {
   "cell_type": "markdown",
   "metadata": {},
   "source": [
    "__[문제 2: 붕어빵 주문 받기]__\n",
    "\n",
    "손님이 주문한 붕어빵의 종류와 개수를 입력받는 기능을 구현하세요.\n",
    "\n",
    "요구사항:\n",
    "- 손님이 주문할 붕어빵의 종류와 개수를 입력받습니다.\n",
    "- 주문 내용을 딕셔너리에 저장하세요.\n",
    "- 주문 내역을 출력해주세요."
   ]
  },
  {
   "cell_type": "code",
   "execution_count": 9,
   "metadata": {},
   "outputs": [
    {
     "name": "stdout",
     "output_type": "stream",
     "text": [
      "{'슈크림': 4}\n"
     ]
    }
   ],
   "source": [
    "fish_type = input (\"주문할 붕어빵 종류를 선택해주세요. (팥, 슈크림, 초코): \")\n",
    "fish_count = int(input(\"주문할 개수를 적어주세요. : \"))\n",
    "order = {fish_type : fish_count}\n",
    "print(order)"
   ]
  },
  {
   "cell_type": "markdown",
   "metadata": {},
   "source": [
    "__[문제 3: 붕어빵 주문 처리]__\n",
    "\n",
    "손님의 주문을 처리하여 붕어빵 재고를 업데이트하는 기능을 구현하세요.\n",
    "\n",
    "요구사항:\n",
    "- 손님의 주문 내용을 기반으로 재고를 업데이트합니다.\n",
    "- 재고가 부족할 경우, 손님에게 재고 부족을 알리고 재고를 감소시키지 않습니다.\n",
    "- 재고가 충분할 경우, 주문한 만큼 재고를 감소시키고 판매를 완료합니다.\n",
    "- 판매가 완료된 경우 판매된 붕어빵 맛과 개수를 출력하세요."
   ]
  },
  {
   "cell_type": "code",
   "execution_count": null,
   "metadata": {},
   "outputs": [
    {
     "name": "stdout",
     "output_type": "stream",
     "text": [
      "재고가 부족합니다\n"
     ]
    }
   ],
   "source": [
    "resi = {\n",
    "    \"팥\" : 10,\n",
    "    \"슈크림\" : 5,\n",
    "    \"초코\" : 3\n",
    "}\n",
    "fish_type = input (\"주문할 붕어빵 종류를 선택해주세요. (팥, 슈크림, 초코): \")\n",
    "fish_count = int(input(\"주문할 개수를 적어주세요. : \"))\n",
    "bread_count = resi[fish_type] - fish_count\n",
    "if bread_count >= 0 :\n",
    "    print(f'{fish_type}붕어빵 {bread_count}개 주문하였습니다.')\n",
    "else :\n",
    "    print(\"재고가 부족합니다\")\n"
   ]
  },
  {
   "cell_type": "markdown",
   "metadata": {},
   "source": [
    "__[문제 4: 여러 손님 주문 처리]__\n",
    "\n",
    "여러 손님들의 주문을 처리할 수 있도록 시스템을 확장하세요.\n",
    "\n",
    "요구사항:\n",
    "- 손님이 \"종료\"를 입력할 때까지 주문을 계속 받습니다.\n",
    "- 각 주문마다 재고를 업데이트합니다.\n",
    "- 현재 재고를 화면에 출력합니다."
   ]
  },
  {
   "cell_type": "code",
   "execution_count": null,
   "metadata": {},
   "outputs": [],
   "source": [
    "팥 = 10\n",
    "슈크림 = 7\n",
    "초코 = 5\n",
    "\n",
    "while True:\n",
    "  order = input(\"원하시는 붕어빵 맛을 선택해주세요 (팥, 슈크림, 초코, 종료):\")\n",
    "\n",
    "  if order == \"팥\" :\n",
    "    order_p = input(\"주문하실 개수를 입력해주세요 :\")\n",
    "    if order_p.isdigit() and int(order_p) <= 팥 :\n",
    "      팥 -= int(order_p)\n",
    "      print(f'주문하신 팥 붕어빵의 개수는{order_p}개, 재고는{팥}개 남았습니다.')\n",
    "\n",
    "    else :\n",
    "      print(\"재고가 부족합니다.\")\n",
    "\n",
    "  if order == \"슈크림\" :\n",
    "    order_s = input(\"주문하실 개수를 입력해주세요 :\")\n",
    "    if order_s.isdigit() and int(order_s) <= 슈크림 :\n",
    "      슈크림 -= int(order_s)\n",
    "      print(f'주문하신 슈크림 붕어빵의 개수는{order_s}개, 재고는{슈크림}개 남았습니다.')\n",
    "\n",
    "    else :\n",
    "      print(\"재고가 부족합니다.\")  \n",
    "\n",
    "  if order == \"초코\" :\n",
    "    order_c = input(\"주문하실 개수를 입력해주세요 :\")\n",
    "    if order_c.isdigit() and int(order_c) <= 초코 :\n",
    "      초코 -= int(order_c)\n",
    "      print(f'주문하신 초코 붕어빵의 개수는{order_c}개, 재고는{초코}개 남았습니다.')\n",
    "\n",
    "    else :\n",
    "      print(\"재고가 부족합니다.\")  \n",
    "\n",
    "  if order == \"종료\" :\n",
    "    print(\"서비스를 종료합니다\")\n",
    "    break"
   ]
  },
  {
   "cell_type": "markdown",
   "metadata": {},
   "source": [
    "__[문제 5: 관리자 모드]__\n",
    "\n",
    "관리자 모드를 통해 붕어빵 재고를 추가할 수 있는 기능을 구현하세요.\n",
    "\n",
    "요구사항:\n",
    "- 관리자는 특정 붕어빵의 재고를 추가할 수 있습니다.\n",
    "- \"종료\"를 입력하면 관리자 모드를 종료합니다.\n",
    "- 추가된 재고를 업데이트하고 현재 재고를 화면에 출력합니다."
   ]
  },
  {
   "cell_type": "code",
   "execution_count": null,
   "metadata": {},
   "outputs": [
    {
     "name": "stdout",
     "output_type": "stream",
     "text": [
      "3개 추가하여 남은 재고 수는8개 입니다.\n",
      "관리자 모드를 종료합니다.\n"
     ]
    }
   ],
   "source": [
    "팥 = 5\n",
    "슈크림 = 3\n",
    "초코 = 2\n",
    "\n",
    "while True:\n",
    "    admin = input(\"추가를 원하는 붕어빵 종류를 선택해주세요 (팥, 슈크림, 초코, 종료) :\")\n",
    "    \n",
    "    if admin == '팥':\n",
    "        count_p = input(f'현재 재고는 {팥}개 입니다. 추가할 수량을 입력해주세요. :')\n",
    "        if count_p.isdigit() :\n",
    "            팥 += int(count_p)\n",
    "            print(f'팥 붕어빵{count_p}개 추가하여 남은 재고 수는{팥}개 입니다.')\n",
    "        else :\n",
    "            print(\"숫자를 입력해주세요.\")\n",
    "     \n",
    "    if admin == '슈크림':\n",
    "        count_s = input(f'현재 재고는 {슈크림}개 입니다. 추가할 수량을 입력해주세요. :')\n",
    "        if count_s.isdigit() :\n",
    "            슈크림 += int(count_s)\n",
    "            print(f'슈크림 붕어빵{count_s}개 추가하여 남은 재고 수는{슈크림}개 입니다.')\n",
    "        else :\n",
    "            print(\"숫자를 입력해주세요.\")\n",
    "\n",
    "    if admin == '초코':\n",
    "        count_c = input(f'현재 재고는 {초코}개 입니다. 추가할 수량을 입력해주세요. :')\n",
    "        if count_c.isdigit() :\n",
    "            초코 += int(count_c)\n",
    "            print(f'초코 붕어빵{count_c}개 추가하여 남은 재고 수는{초코}개 입니다.')\n",
    "        else :\n",
    "            print(\"숫자를 입력해주세요.\")\n",
    "\n",
    "    if admin == '종료':\n",
    "        print(\"관리자 모드를 종료합니다.\")\n",
    "        break"
   ]
  },
  {
   "cell_type": "code",
   "execution_count": 27,
   "metadata": {},
   "outputs": [
    {
     "name": "stdout",
     "output_type": "stream",
     "text": [
      "총 매출액은 5600입니다.\n"
     ]
    }
   ],
   "source": [
    "price = {\"팥붕어빵\" : 1000 , \n",
    "         \"슈크림붕어빵\" : 1200 , \n",
    "         \"초코붕어빵\" : 1500\n",
    "         }\n",
    "sell = {\"팥붕어빵\" : 0 , \n",
    "        \"슈크림붕어빵\" : 0 , \n",
    "        \"초코붕어빵\" : 0\n",
    "        }\n",
    "while True :\n",
    "    type = input(\"판매한 붕어빵의 종류를 선택해주세요 (팥, 슈크림, 초코, 총 매출) :\")\n",
    "\n",
    "    if type == \"팥\" :\n",
    "        sell_count = input(\"판매한 개수를 적어주세요 :\")\n",
    "        sell_p = sell[\"팥붕어빵\"] + int(sell_count) \n",
    "\n",
    "    if type == \"슈크림\" :\n",
    "        sell_count = input(\"판매한 개수를 적어주세요 :\")\n",
    "        sell_s = sell[\"슈크림붕어빵\"] + int(sell_count)\n",
    "\n",
    "    if type == \"초코\" :\n",
    "        sell_count = input(\"판매한 개수를 적어주세요 :\")\n",
    "        sell_c = sell['초코붕어빵'] + int(sell_count)\n",
    "        \n",
    "    if type == \"총 매출\" :\n",
    "        print(f\"총 매출액은 {price['팥붕어빵'] * int(sell_p) + price['슈크림붕어빵'] * sell_s}입니다.\")\n",
    "        break"
   ]
  }
 ],
 "metadata": {
  "colab": {
   "authorship_tag": "ABX9TyMLQjyUmELFyKkx1AyovOFZ",
   "provenance": []
  },
  "kernelspec": {
   "display_name": "Python 3",
   "name": "python3"
  },
  "language_info": {
   "codemirror_mode": {
    "name": "ipython",
    "version": 3
   },
   "file_extension": ".py",
   "mimetype": "text/x-python",
   "name": "python",
   "nbconvert_exporter": "python",
   "pygments_lexer": "ipython3",
   "version": "3.9.6"
  }
 },
 "nbformat": 4,
 "nbformat_minor": 0
}
